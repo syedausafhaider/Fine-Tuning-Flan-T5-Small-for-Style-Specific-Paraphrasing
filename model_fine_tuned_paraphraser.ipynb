{
 "cells": [
  {
   "cell_type": "code",
   "execution_count": 1,
   "id": "d584bf09-c6dc-43a4-9c63-abaa45848120",
   "metadata": {},
   "outputs": [
    {
     "name": "stdout",
     "output_type": "stream",
     "text": [
      "Requirement already satisfied: transformers in c:\\users\\asus\\miniforge3\\envs\\rag_rl\\lib\\site-packages (4.53.0)\n",
      "Requirement already satisfied: datasets in c:\\users\\asus\\miniforge3\\envs\\rag_rl\\lib\\site-packages (3.6.0)\n",
      "Requirement already satisfied: torch in c:\\users\\asus\\miniforge3\\envs\\rag_rl\\lib\\site-packages (2.6.0+cu124)\n",
      "Requirement already satisfied: filelock in c:\\users\\asus\\miniforge3\\envs\\rag_rl\\lib\\site-packages (from transformers) (3.13.1)\n",
      "Requirement already satisfied: huggingface-hub<1.0,>=0.30.0 in c:\\users\\asus\\miniforge3\\envs\\rag_rl\\lib\\site-packages (from transformers) (0.33.2)\n",
      "Requirement already satisfied: numpy>=1.17 in c:\\users\\asus\\miniforge3\\envs\\rag_rl\\lib\\site-packages (from transformers) (2.2.6)\n",
      "Requirement already satisfied: packaging>=20.0 in c:\\users\\asus\\miniforge3\\envs\\rag_rl\\lib\\site-packages (from transformers) (24.2)\n",
      "Requirement already satisfied: pyyaml>=5.1 in c:\\users\\asus\\miniforge3\\envs\\rag_rl\\lib\\site-packages (from transformers) (6.0)\n",
      "Requirement already satisfied: regex!=2019.12.17 in c:\\users\\asus\\miniforge3\\envs\\rag_rl\\lib\\site-packages (from transformers) (2024.11.6)\n",
      "Requirement already satisfied: requests in c:\\users\\asus\\miniforge3\\envs\\rag_rl\\lib\\site-packages (from transformers) (2.32.4)\n",
      "Requirement already satisfied: tokenizers<0.22,>=0.21 in c:\\users\\asus\\miniforge3\\envs\\rag_rl\\lib\\site-packages (from transformers) (0.21.2)\n",
      "Requirement already satisfied: safetensors>=0.4.3 in c:\\users\\asus\\miniforge3\\envs\\rag_rl\\lib\\site-packages (from transformers) (0.5.3)\n",
      "Requirement already satisfied: tqdm>=4.27 in c:\\users\\asus\\miniforge3\\envs\\rag_rl\\lib\\site-packages (from transformers) (4.67.1)\n",
      "Requirement already satisfied: pyarrow>=15.0.0 in c:\\users\\asus\\miniforge3\\envs\\rag_rl\\lib\\site-packages (from datasets) (20.0.0)\n",
      "Requirement already satisfied: dill<0.3.9,>=0.3.0 in c:\\users\\asus\\miniforge3\\envs\\rag_rl\\lib\\site-packages (from datasets) (0.3.8)\n",
      "Requirement already satisfied: pandas in c:\\users\\asus\\miniforge3\\envs\\rag_rl\\lib\\site-packages (from datasets) (2.3.0)\n",
      "Requirement already satisfied: xxhash in c:\\users\\asus\\miniforge3\\envs\\rag_rl\\lib\\site-packages (from datasets) (3.5.0)\n",
      "Requirement already satisfied: multiprocess<0.70.17 in c:\\users\\asus\\miniforge3\\envs\\rag_rl\\lib\\site-packages (from datasets) (0.70.16)\n",
      "Requirement already satisfied: fsspec<=2025.3.0,>=2023.1.0 in c:\\users\\asus\\miniforge3\\envs\\rag_rl\\lib\\site-packages (from fsspec[http]<=2025.3.0,>=2023.1.0->datasets) (2024.6.1)\n",
      "Requirement already satisfied: typing-extensions>=4.10.0 in c:\\users\\asus\\miniforge3\\envs\\rag_rl\\lib\\site-packages (from torch) (4.12.2)\n",
      "Requirement already satisfied: networkx in c:\\users\\asus\\miniforge3\\envs\\rag_rl\\lib\\site-packages (from torch) (3.3)\n",
      "Requirement already satisfied: jinja2 in c:\\users\\asus\\miniforge3\\envs\\rag_rl\\lib\\site-packages (from torch) (3.1.4)\n",
      "Requirement already satisfied: sympy==1.13.1 in c:\\users\\asus\\miniforge3\\envs\\rag_rl\\lib\\site-packages (from torch) (1.13.1)\n",
      "Requirement already satisfied: mpmath<1.4,>=1.1.0 in c:\\users\\asus\\miniforge3\\envs\\rag_rl\\lib\\site-packages (from sympy==1.13.1->torch) (1.3.0)\n",
      "Requirement already satisfied: aiohttp!=4.0.0a0,!=4.0.0a1 in c:\\users\\asus\\miniforge3\\envs\\rag_rl\\lib\\site-packages (from fsspec[http]<=2025.3.0,>=2023.1.0->datasets) (3.12.13)\n",
      "Requirement already satisfied: charset_normalizer<4,>=2 in c:\\users\\asus\\miniforge3\\envs\\rag_rl\\lib\\site-packages (from requests->transformers) (3.4.2)\n",
      "Requirement already satisfied: idna<4,>=2.5 in c:\\users\\asus\\miniforge3\\envs\\rag_rl\\lib\\site-packages (from requests->transformers) (3.10)\n",
      "Requirement already satisfied: urllib3<3,>=1.21.1 in c:\\users\\asus\\miniforge3\\envs\\rag_rl\\lib\\site-packages (from requests->transformers) (2.5.0)\n",
      "Requirement already satisfied: certifi>=2017.4.17 in c:\\users\\asus\\miniforge3\\envs\\rag_rl\\lib\\site-packages (from requests->transformers) (2025.6.15)\n",
      "Requirement already satisfied: colorama in c:\\users\\asus\\miniforge3\\envs\\rag_rl\\lib\\site-packages (from tqdm>=4.27->transformers) (0.4.6)\n",
      "Requirement already satisfied: MarkupSafe>=2.0 in c:\\users\\asus\\miniforge3\\envs\\rag_rl\\lib\\site-packages (from jinja2->torch) (2.1.2)\n",
      "Requirement already satisfied: python-dateutil>=2.8.2 in c:\\users\\asus\\miniforge3\\envs\\rag_rl\\lib\\site-packages (from pandas->datasets) (2.9.0.post0)\n",
      "Requirement already satisfied: pytz>=2020.1 in c:\\users\\asus\\miniforge3\\envs\\rag_rl\\lib\\site-packages (from pandas->datasets) (2025.2)\n",
      "Requirement already satisfied: tzdata>=2022.7 in c:\\users\\asus\\miniforge3\\envs\\rag_rl\\lib\\site-packages (from pandas->datasets) (2025.2)\n",
      "Requirement already satisfied: aiohappyeyeballs>=2.5.0 in c:\\users\\asus\\miniforge3\\envs\\rag_rl\\lib\\site-packages (from aiohttp!=4.0.0a0,!=4.0.0a1->fsspec[http]<=2025.3.0,>=2023.1.0->datasets) (2.6.1)\n",
      "Requirement already satisfied: aiosignal>=1.1.2 in c:\\users\\asus\\miniforge3\\envs\\rag_rl\\lib\\site-packages (from aiohttp!=4.0.0a0,!=4.0.0a1->fsspec[http]<=2025.3.0,>=2023.1.0->datasets) (1.4.0)\n",
      "Requirement already satisfied: async-timeout<6.0,>=4.0 in c:\\users\\asus\\miniforge3\\envs\\rag_rl\\lib\\site-packages (from aiohttp!=4.0.0a0,!=4.0.0a1->fsspec[http]<=2025.3.0,>=2023.1.0->datasets) (4.0.3)\n",
      "Requirement already satisfied: attrs>=17.3.0 in c:\\users\\asus\\miniforge3\\envs\\rag_rl\\lib\\site-packages (from aiohttp!=4.0.0a0,!=4.0.0a1->fsspec[http]<=2025.3.0,>=2023.1.0->datasets) (25.3.0)\n",
      "Requirement already satisfied: frozenlist>=1.1.1 in c:\\users\\asus\\miniforge3\\envs\\rag_rl\\lib\\site-packages (from aiohttp!=4.0.0a0,!=4.0.0a1->fsspec[http]<=2025.3.0,>=2023.1.0->datasets) (1.7.0)\n",
      "Requirement already satisfied: multidict<7.0,>=4.5 in c:\\users\\asus\\miniforge3\\envs\\rag_rl\\lib\\site-packages (from aiohttp!=4.0.0a0,!=4.0.0a1->fsspec[http]<=2025.3.0,>=2023.1.0->datasets) (6.6.3)\n",
      "Requirement already satisfied: propcache>=0.2.0 in c:\\users\\asus\\miniforge3\\envs\\rag_rl\\lib\\site-packages (from aiohttp!=4.0.0a0,!=4.0.0a1->fsspec[http]<=2025.3.0,>=2023.1.0->datasets) (0.3.2)\n",
      "Requirement already satisfied: yarl<2.0,>=1.17.0 in c:\\users\\asus\\miniforge3\\envs\\rag_rl\\lib\\site-packages (from aiohttp!=4.0.0a0,!=4.0.0a1->fsspec[http]<=2025.3.0,>=2023.1.0->datasets) (1.20.1)\n",
      "Requirement already satisfied: six>=1.5 in c:\\users\\asus\\miniforge3\\envs\\rag_rl\\lib\\site-packages (from python-dateutil>=2.8.2->pandas->datasets) (1.17.0)\n"
     ]
    },
    {
     "name": "stderr",
     "output_type": "stream",
     "text": [
      "\n",
      "[notice] A new release of pip is available: 24.0 -> 25.1.1\n",
      "[notice] To update, run: python.exe -m pip install --upgrade pip\n"
     ]
    }
   ],
   "source": [
    "!pip install transformers datasets torch"
   ]
  },
  {
   "cell_type": "code",
   "execution_count": 2,
   "id": "afc645b6-1025-483e-87f0-13f5ae4f7bfe",
   "metadata": {},
   "outputs": [
    {
     "name": "stdout",
     "output_type": "stream",
     "text": [
      "True\n",
      "NVIDIA GeForce RTX 3060 Laptop GPU\n"
     ]
    }
   ],
   "source": [
    "import torch\n",
    "print(torch.cuda.is_available())  # Should return True\n",
    "print(torch.cuda.get_device_name(0))  # Should display \"NVIDIA GeForce RTX 3060\""
   ]
  },
  {
   "cell_type": "code",
   "execution_count": 3,
   "id": "2af90390-44e7-4469-a964-b3698d09b339",
   "metadata": {},
   "outputs": [
    {
     "data": {
      "application/vnd.jupyter.widget-view+json": {
       "model_id": "4e5cccdb0302419ebc6dda0f3040eee8",
       "version_major": 2,
       "version_minor": 0
      },
      "text/plain": [
       "tokenizer_config.json: 0.00B [00:00, ?B/s]"
      ]
     },
     "metadata": {},
     "output_type": "display_data"
    },
    {
     "name": "stderr",
     "output_type": "stream",
     "text": [
      "C:\\Users\\ASUS\\miniforge3\\envs\\rag_rl\\lib\\site-packages\\huggingface_hub\\file_download.py:143: UserWarning: `huggingface_hub` cache-system uses symlinks by default to efficiently store duplicated files but your machine does not support them in C:\\Users\\ASUS\\.cache\\huggingface\\hub\\models--google--flan-t5-small. Caching files will still work but in a degraded version that might require more space on your disk. This warning can be disabled by setting the `HF_HUB_DISABLE_SYMLINKS_WARNING` environment variable. For more details, see https://huggingface.co/docs/huggingface_hub/how-to-cache#limitations.\n",
      "To support symlinks on Windows, you either need to activate Developer Mode or to run Python as an administrator. In order to activate developer mode, see this article: https://docs.microsoft.com/en-us/windows/apps/get-started/enable-your-device-for-development\n",
      "  warnings.warn(message)\n"
     ]
    },
    {
     "data": {
      "application/vnd.jupyter.widget-view+json": {
       "model_id": "25b1e0a4e6c944fd93ccce00e38db5bb",
       "version_major": 2,
       "version_minor": 0
      },
      "text/plain": [
       "spiece.model:   0%|          | 0.00/792k [00:00<?, ?B/s]"
      ]
     },
     "metadata": {},
     "output_type": "display_data"
    },
    {
     "data": {
      "application/vnd.jupyter.widget-view+json": {
       "model_id": "698f33edc71f47d2877a06aab323981d",
       "version_major": 2,
       "version_minor": 0
      },
      "text/plain": [
       "tokenizer.json: 0.00B [00:00, ?B/s]"
      ]
     },
     "metadata": {},
     "output_type": "display_data"
    },
    {
     "data": {
      "application/vnd.jupyter.widget-view+json": {
       "model_id": "c0022c0e6a7c4eaaabc58dbf4f810ea1",
       "version_major": 2,
       "version_minor": 0
      },
      "text/plain": [
       "special_tokens_map.json: 0.00B [00:00, ?B/s]"
      ]
     },
     "metadata": {},
     "output_type": "display_data"
    },
    {
     "data": {
      "application/vnd.jupyter.widget-view+json": {
       "model_id": "1b9fd765df924d4eb94a672ab3a030c2",
       "version_major": 2,
       "version_minor": 0
      },
      "text/plain": [
       "config.json: 0.00B [00:00, ?B/s]"
      ]
     },
     "metadata": {},
     "output_type": "display_data"
    },
    {
     "data": {
      "application/vnd.jupyter.widget-view+json": {
       "model_id": "8b64784af1c249a2905e1bbb12480056",
       "version_major": 2,
       "version_minor": 0
      },
      "text/plain": [
       "model.safetensors:   0%|          | 0.00/308M [00:00<?, ?B/s]"
      ]
     },
     "metadata": {},
     "output_type": "display_data"
    },
    {
     "data": {
      "application/vnd.jupyter.widget-view+json": {
       "model_id": "b0a62615da3a4d8ab999333063c5f170",
       "version_major": 2,
       "version_minor": 0
      },
      "text/plain": [
       "generation_config.json:   0%|          | 0.00/147 [00:00<?, ?B/s]"
      ]
     },
     "metadata": {},
     "output_type": "display_data"
    }
   ],
   "source": [
    "from transformers import AutoTokenizer, AutoModelForSeq2SeqLM\n",
    "\n",
    "# Load Flan-T5-Small\n",
    "model_name = \"google/flan-t5-small\"\n",
    "tokenizer = AutoTokenizer.from_pretrained(model_name)\n",
    "model = AutoModelForSeq2SeqLM.from_pretrained(model_name)"
   ]
  },
  {
   "cell_type": "code",
   "execution_count": 6,
   "id": "7759c03c-13ca-4e8c-9cb1-aff5c4e669f3",
   "metadata": {},
   "outputs": [
    {
     "data": {
      "application/vnd.jupyter.widget-view+json": {
       "model_id": "797fdb1af89b4d80a537973517ecd7a0",
       "version_major": 2,
       "version_minor": 0
      },
      "text/plain": [
       "quora.py: 0.00B [00:00, ?B/s]"
      ]
     },
     "metadata": {},
     "output_type": "display_data"
    },
    {
     "data": {
      "application/vnd.jupyter.widget-view+json": {
       "model_id": "be5d5fcc3c06433487124e0326096682",
       "version_major": 2,
       "version_minor": 0
      },
      "text/plain": [
       "README.md: 0.00B [00:00, ?B/s]"
      ]
     },
     "metadata": {},
     "output_type": "display_data"
    },
    {
     "data": {
      "application/vnd.jupyter.widget-view+json": {
       "model_id": "d0aab9a86759416eb3b65511df4abc27",
       "version_major": 2,
       "version_minor": 0
      },
      "text/plain": [
       "Downloading data:   0%|          | 0.00/58.2M [00:00<?, ?B/s]"
      ]
     },
     "metadata": {},
     "output_type": "display_data"
    },
    {
     "data": {
      "application/vnd.jupyter.widget-view+json": {
       "model_id": "7657785e12a44146a110a4db647a1a3c",
       "version_major": 2,
       "version_minor": 0
      },
      "text/plain": [
       "Generating train split:   0%|          | 0/404290 [00:00<?, ? examples/s]"
      ]
     },
     "metadata": {},
     "output_type": "display_data"
    }
   ],
   "source": [
    "from datasets import load_dataset\n",
    "\n",
    "# Force re-download the dataset\n",
    "dataset = load_dataset(\"quora\", trust_remote_code=True, download_mode=\"force_redownload\")"
   ]
  },
  {
   "cell_type": "code",
   "execution_count": 7,
   "id": "149b403c-7abc-48ea-8f38-1691d7e5cba0",
   "metadata": {},
   "outputs": [
    {
     "name": "stdout",
     "output_type": "stream",
     "text": [
      "Dataset Structure:\n",
      "DatasetDict({\n",
      "    train: Dataset({\n",
      "        features: ['questions', 'is_duplicate'],\n",
      "        num_rows: 404290\n",
      "    })\n",
      "})\n",
      "\n",
      "First Few Examples from the Training Set:\n",
      "Example 1:\n",
      "{'questions': {'id': [1, 2], 'text': ['What is the step by step guide to invest in share market in india?', 'What is the step by step guide to invest in share market?']}, 'is_duplicate': False}\n",
      "--------------------------------------------------\n",
      "Example 2:\n",
      "{'questions': {'id': [3, 4], 'text': ['What is the story of Kohinoor (Koh-i-Noor) Diamond?', 'What would happen if the Indian government stole the Kohinoor (Koh-i-Noor) diamond back?']}, 'is_duplicate': False}\n",
      "--------------------------------------------------\n",
      "Example 3:\n",
      "{'questions': {'id': [5, 6], 'text': ['How can I increase the speed of my internet connection while using a VPN?', 'How can Internet speed be increased by hacking through DNS?']}, 'is_duplicate': False}\n",
      "--------------------------------------------------\n",
      "Example 4:\n",
      "{'questions': {'id': [7, 8], 'text': ['Why am I mentally very lonely? How can I solve it?', 'Find the remainder when [math]23^{24}[/math] is divided by 24,23?']}, 'is_duplicate': False}\n",
      "--------------------------------------------------\n",
      "Example 5:\n",
      "{'questions': {'id': [9, 10], 'text': ['Which one dissolve in water quikly sugar, salt, methane and carbon di oxide?', 'Which fish would survive in salt water?']}, 'is_duplicate': False}\n",
      "--------------------------------------------------\n",
      "\n",
      "Columns/Fields in the Dataset:\n",
      "['questions', 'is_duplicate']\n",
      "\n",
      "Number of Examples in Each Split:\n",
      "Train: 404290\n",
      "\n",
      "First Few Rows of the Training Set as a DataFrame:\n",
      "                                           questions  is_duplicate\n",
      "0  {'id': [1, 2], 'text': ['What is the step by s...         False\n",
      "1  {'id': [3, 4], 'text': ['What is the story of ...         False\n",
      "2  {'id': [5, 6], 'text': ['How can I increase th...         False\n",
      "3  {'id': [7, 8], 'text': ['Why am I mentally ver...         False\n",
      "4  {'id': [9, 10], 'text': ['Which one dissolve i...         False\n"
     ]
    }
   ],
   "source": [
    "# Inspect the dataset structure\n",
    "print(\"Dataset Structure:\")\n",
    "print(dataset)\n",
    "\n",
    "# View the first few examples from the training set\n",
    "print(\"\\nFirst Few Examples from the Training Set:\")\n",
    "for i in range(5):\n",
    "    print(f\"Example {i+1}:\")\n",
    "    print(dataset[\"train\"][i])\n",
    "    print(\"-\" * 50)\n",
    "\n",
    "# Check the columns/fields in the dataset\n",
    "print(\"\\nColumns/Fields in the Dataset:\")\n",
    "print(dataset[\"train\"].column_names)\n",
    "\n",
    "# Check the total number of examples in each split\n",
    "print(\"\\nNumber of Examples in Each Split:\")\n",
    "print(f\"Train: {len(dataset['train'])}\")\n",
    "if \"validation\" in dataset:\n",
    "    print(f\"Validation: {len(dataset['validation'])}\")\n",
    "if \"test\" in dataset:\n",
    "    print(f\"Test: {len(dataset['test'])}\")\n",
    "\n",
    "# Optional: Convert the dataset to a Pandas DataFrame for easier inspection\n",
    "import pandas as pd\n",
    "\n",
    "train_df = pd.DataFrame(dataset[\"train\"])\n",
    "print(\"\\nFirst Few Rows of the Training Set as a DataFrame:\")\n",
    "print(train_df.head())"
   ]
  },
  {
   "cell_type": "code",
   "execution_count": 8,
   "id": "7504e103-de8e-4506-aacb-e76280320b3b",
   "metadata": {},
   "outputs": [
    {
     "data": {
      "application/vnd.jupyter.widget-view+json": {
       "model_id": "3f5e168547e14c5e86d913c8017e5026",
       "version_major": 2,
       "version_minor": 0
      },
      "text/plain": [
       "Map:   0%|          | 0/404290 [00:00<?, ? examples/s]"
      ]
     },
     "metadata": {},
     "output_type": "display_data"
    },
    {
     "data": {
      "application/vnd.jupyter.widget-view+json": {
       "model_id": "fe857637c6784d2cadf4379db9878151",
       "version_major": 2,
       "version_minor": 0
      },
      "text/plain": [
       "Filter:   0%|          | 0/404290 [00:00<?, ? examples/s]"
      ]
     },
     "metadata": {},
     "output_type": "display_data"
    },
    {
     "data": {
      "application/vnd.jupyter.widget-view+json": {
       "model_id": "0fac82bea1854f34b7d9d8a91ab74800",
       "version_major": 2,
       "version_minor": 0
      },
      "text/plain": [
       "Map:   0%|          | 0/149263 [00:00<?, ? examples/s]"
      ]
     },
     "metadata": {},
     "output_type": "display_data"
    },
    {
     "name": "stdout",
     "output_type": "stream",
     "text": [
      "Processed Dataset Preview:\n",
      "                                           questions  is_duplicate  \\\n",
      "0  {'id': [11, 12], 'text': ['Astrology: I am a C...          True   \n",
      "1  {'id': [15, 16], 'text': ['How can I be a good...          True   \n",
      "2  {'id': [23, 24], 'text': ['How do I read and f...          True   \n",
      "3  {'id': [25, 26], 'text': ['What can make Physi...          True   \n",
      "4  {'id': [27, 28], 'text': ['What was your first...          True   \n",
      "\n",
      "                                           question1  \\\n",
      "0  Astrology: I am a Capricorn Sun Cap moon and c...   \n",
      "1                     How can I be a good geologist?   \n",
      "2        How do I read and find my YouTube comments?   \n",
      "3               What can make Physics easy to learn?   \n",
      "4        What was your first sexual experience like?   \n",
      "\n",
      "                                           question2  \\\n",
      "0  I'm a triple Capricorn (Sun, Moon and ascendan...   \n",
      "1          What should I do to be a great geologist?   \n",
      "2             How can I see all my Youtube comments?   \n",
      "3            How can you make physics easy to learn?   \n",
      "4             What was your first sexual experience?   \n",
      "\n",
      "                                               input  \\\n",
      "0  Astrology: I am a Capricorn Sun Cap moon and c...   \n",
      "1                     How can I be a good geologist?   \n",
      "2        How do I read and find my YouTube comments?   \n",
      "3               What can make Physics easy to learn?   \n",
      "4        What was your first sexual experience like?   \n",
      "\n",
      "                                              output    style  \n",
      "0  I'm a triple Capricorn (Sun, Moon and ascendan...  neutral  \n",
      "1          What should I do to be a great geologist?  neutral  \n",
      "2             How can I see all my Youtube comments?  neutral  \n",
      "3            How can you make physics easy to learn?  neutral  \n",
      "4             What was your first sexual experience?  neutral  \n"
     ]
    }
   ],
   "source": [
    "import pandas as pd\n",
    "\n",
    "# Step 1: Flatten the dataset and extract question pairs\n",
    "def flatten_dataset(example):\n",
    "    return {\n",
    "        \"question1\": example[\"questions\"][\"text\"][0],\n",
    "        \"question2\": example[\"questions\"][\"text\"][1],\n",
    "        \"is_duplicate\": example[\"is_duplicate\"]\n",
    "    }\n",
    "\n",
    "flattened_dataset = dataset[\"train\"].map(flatten_dataset)\n",
    "\n",
    "# Step 2: Filter for paraphrases (is_duplicate=True)\n",
    "paraphrase_dataset = flattened_dataset.filter(lambda example: example[\"is_duplicate\"])\n",
    "\n",
    "# Step 3: Add a default style label (e.g., \"neutral\")\n",
    "def add_style_label(example):\n",
    "    return {\n",
    "        \"input\": example[\"question1\"],\n",
    "        \"output\": example[\"question2\"],\n",
    "        \"style\": \"neutral\"  # Default style label\n",
    "    }\n",
    "\n",
    "final_dataset = paraphrase_dataset.map(add_style_label)\n",
    "\n",
    "# Step 4: Convert to a Pandas DataFrame for easier inspection\n",
    "df = pd.DataFrame(final_dataset)\n",
    "\n",
    "# Display the first few rows of the processed dataset\n",
    "print(\"Processed Dataset Preview:\")\n",
    "print(df.head())\n",
    "\n",
    "# Save the processed dataset to a CSV file (optional)\n",
    "df.to_csv(\"processed_paraphrase_dataset.csv\", index=False)"
   ]
  },
  {
   "cell_type": "code",
   "execution_count": 9,
   "id": "272e087b-c740-411e-84b4-6a8308abb261",
   "metadata": {},
   "outputs": [
    {
     "name": "stdout",
     "output_type": "stream",
     "text": [
      "Null Values in Each Column:\n",
      "questions       0\n",
      "is_duplicate    0\n",
      "question1       0\n",
      "question2       0\n",
      "input           0\n",
      "output          0\n",
      "style           0\n",
      "dtype: int64\n",
      "\n",
      "Rows with Empty Outputs:\n",
      "Empty DataFrame\n",
      "Columns: [questions, is_duplicate, question1, question2, input, output, style]\n",
      "Index: []\n",
      "\n",
      "Duplicate Input-Output Pairs:\n",
      "Empty DataFrame\n",
      "Columns: [questions, is_duplicate, question1, question2, input, output, style]\n",
      "Index: []\n",
      "\n",
      "Style Distribution:\n",
      "style\n",
      "neutral    149263\n",
      "Name: count, dtype: int64\n"
     ]
    },
    {
     "data": {
      "image/png": "[encoded data removed]",
      "text/plain": [
       "<Figure size 600x400 with 1 Axes>"
      ]
     },
     "metadata": {},
     "output_type": "display_data"
    },
    {
     "name": "stdout",
     "output_type": "stream",
     "text": [
      "\n",
      "Random Sample of Examples:\n",
      "Example 35703:\n",
      "Input: Should I sell an iPhone 6s and buy an iPhone SE?\n",
      "Output: Should I buy the iPhone 6s or an SE?\n",
      "Style: neutral\n",
      "--------------------------------------------------\n",
      "Example 26735:\n",
      "Input: What happened to the famous people who believed and confirmed the world would end in 2012 and what do they say why it didn't happen?\n",
      "Output: What happened to people who sold off all their belongings in 2012 in preparation for the end of the world?\n",
      "Style: neutral\n",
      "--------------------------------------------------\n",
      "Example 19217:\n",
      "Input: What are some of the top paying career options after doing a B.Tech in mechanical engineering?\n",
      "Output: What is the best field for earning money after completing a B.Tech in mechanical engineering?\n",
      "Style: neutral\n",
      "--------------------------------------------------\n",
      "Example 79156:\n",
      "Input: How can I use my time productively during slow day at work?\n",
      "Output: What can I do on a boring day at work?\n",
      "Style: neutral\n",
      "--------------------------------------------------\n",
      "Example 138538:\n",
      "Input: What is the revenue model for blogging?\n",
      "Output: What could be the revenue model for a blogging company?\n",
      "Style: neutral\n",
      "--------------------------------------------------\n",
      "\n",
      "Cleaned dataset saved to: cleaned_paraphrase_dataset.csv\n"
     ]
    }
   ],
   "source": [
    "import pandas as pd\n",
    "\n",
    "# Step 1: Check for missing or ambiguous data\n",
    "def check_data_quality(df):\n",
    "    # Check for null values\n",
    "    null_values = df.isnull().sum()\n",
    "    print(\"Null Values in Each Column:\")\n",
    "    print(null_values)\n",
    "\n",
    "    # Check for empty strings or nonsensical outputs\n",
    "    invalid_outputs = df[df[\"output\"].str.strip() == \"\"]\n",
    "    print(\"\\nRows with Empty Outputs:\")\n",
    "    print(invalid_outputs)\n",
    "\n",
    "    # Check for duplicate pairs\n",
    "    duplicate_pairs = df[df.duplicated(subset=[\"input\", \"output\"])]\n",
    "    print(\"\\nDuplicate Input-Output Pairs:\")\n",
    "    print(duplicate_pairs)\n",
    "\n",
    "# Apply data quality checks\n",
    "check_data_quality(df)\n",
    "\n",
    "# Step 2: Visualize style distribution\n",
    "import matplotlib.pyplot as plt\n",
    "\n",
    "style_distribution = df[\"style\"].value_counts()\n",
    "print(\"\\nStyle Distribution:\")\n",
    "print(style_distribution)\n",
    "\n",
    "plt.figure(figsize=(6, 4))\n",
    "style_distribution.plot(kind=\"bar\", color=\"skyblue\")\n",
    "plt.title(\"Distribution of Styles in the Dataset\")\n",
    "plt.xlabel(\"Style\")\n",
    "plt.ylabel(\"Count\")\n",
    "plt.xticks(rotation=45)\n",
    "plt.tight_layout()\n",
    "plt.show()\n",
    "\n",
    "# Step 3: Inspect a random sample of examples\n",
    "print(\"\\nRandom Sample of Examples:\")\n",
    "random_sample = df.sample(n=5, random_state=42)\n",
    "for i, row in random_sample.iterrows():\n",
    "    print(f\"Example {i}:\")\n",
    "    print(f\"Input: {row['input']}\")\n",
    "    print(f\"Output: {row['output']}\")\n",
    "    print(f\"Style: {row['style']}\")\n",
    "    print(\"-\" * 50)\n",
    "\n",
    "# Step 4: Save the cleaned dataset (optional)\n",
    "cleaned_dataset_path = \"cleaned_paraphrase_dataset.csv\"\n",
    "df.to_csv(cleaned_dataset_path, index=False)\n",
    "print(f\"\\nCleaned dataset saved to: {cleaned_dataset_path}\")"
   ]
  },
  {
   "cell_type": "code",
   "execution_count": 10,
   "id": "a00f24dc-0f83-4146-a094-4a6b617d6eb0",
   "metadata": {},
   "outputs": [
    {
     "name": "stderr",
     "output_type": "stream",
     "text": [
      "You are using the default legacy behaviour of the <class 'transformers.models.t5.tokenization_t5.T5Tokenizer'>. This is expected, and simply means that the `legacy` (previous) behavior will be used so nothing changes for you. If you want to use the new behaviour, set `legacy=False`. This should only be set if you understand what it means, and thoroughly read the reason why this was added as explained in https://github.com/huggingface/transformers/pull/24565\n"
     ]
    },
    {
     "name": "stdout",
     "output_type": "stream",
     "text": [
      "Tokenized dataset saved to: tokenized_paraphrase_dataset.csv\n"
     ]
    }
   ],
   "source": [
    "from transformers import T5Tokenizer\n",
    "\n",
    "# Step 1: Load the tokenizer\n",
    "model_name = \"t5-small\"\n",
    "tokenizer = T5Tokenizer.from_pretrained(model_name)\n",
    "\n",
    "# Step 2: Tokenize the dataset\n",
    "def tokenize_function(example):\n",
    "    # Format the input as \"paraphrase: <input_text> style: <style>\"\n",
    "    inputs = [f\"paraphrase: {text} style: {style}\" for text, style in zip(example[\"input\"], example[\"style\"])]\n",
    "    targets = example[\"output\"]\n",
    "    model_inputs = tokenizer(inputs, max_length=128, truncation=True, padding=\"max_length\")\n",
    "    labels = tokenizer(targets, max_length=128, truncation=True, padding=\"max_length\")\n",
    "    model_inputs[\"labels\"] = labels[\"input_ids\"]\n",
    "    return model_inputs\n",
    "\n",
    "# Apply tokenization\n",
    "tokenized_dataset = df.apply(tokenize_function, axis=1)\n",
    "\n",
    "# Step 3: Save the tokenized dataset (optional)\n",
    "tokenized_dataset_path = \"tokenized_paraphrase_dataset.csv\"\n",
    "tokenized_dataset.to_csv(tokenized_dataset_path, index=False)\n",
    "print(f\"Tokenized dataset saved to: {tokenized_dataset_path}\")"
   ]
  },
  {
   "cell_type": "code",
   "execution_count": 11,
   "id": "5d5bc4a1-383f-46bc-9a55-e39e83b20d3d",
   "metadata": {},
   "outputs": [
    {
     "name": "stdout",
     "output_type": "stream",
     "text": [
      "Training set size: 119410\n",
      "Validation set size: 14926\n",
      "Test set size: 14927\n"
     ]
    }
   ],
   "source": [
    "from sklearn.model_selection import train_test_split\n",
    "\n",
    "# Load the tokenized dataset\n",
    "df = pd.read_csv(\"tokenized_paraphrase_dataset.csv\")\n",
    "\n",
    "# Split the data into train (80%), validation (10%), and test (10%)\n",
    "train_df, temp_df = train_test_split(df, test_size=0.2, random_state=42)\n",
    "val_df, test_df = train_test_split(temp_df, test_size=0.5, random_state=42)\n",
    "\n",
    "# Save the splits to separate files (optional)\n",
    "train_df.to_csv(\"train_dataset.csv\", index=False)\n",
    "val_df.to_csv(\"validation_dataset.csv\", index=False)\n",
    "test_df.to_csv(\"test_dataset.csv\", index=False)\n",
    "\n",
    "print(f\"Training set size: {len(train_df)}\")\n",
    "print(f\"Validation set size: {len(val_df)}\")\n",
    "print(f\"Test set size: {len(test_df)}\")"
   ]
  },
  {
   "cell_type": "code",
   "execution_count": 1,
   "id": "fea87b7d-b15d-46ed-a805-7249f22ff1d4",
   "metadata": {},
   "outputs": [
    {
     "name": "stdout",
     "output_type": "stream",
     "text": [
      "PyTorch version: 2.6.0+cu124\n",
      "GPU available: True\n"
     ]
    },
    {
     "data": {
      "application/vnd.jupyter.widget-view+json": {
       "model_id": "5ff960f720554e5a94bd5fb04cba515d",
       "version_major": 2,
       "version_minor": 0
      },
      "text/plain": [
       "Map:   0%|          | 0/134336 [00:00<?, ? examples/s]"
      ]
     },
     "metadata": {},
     "output_type": "display_data"
    },
    {
     "data": {
      "application/vnd.jupyter.widget-view+json": {
       "model_id": "89ece331da0540a3933aaf5ccf69422b",
       "version_major": 2,
       "version_minor": 0
      },
      "text/plain": [
       "Map:   0%|          | 0/14927 [00:00<?, ? examples/s]"
      ]
     },
     "metadata": {},
     "output_type": "display_data"
    },
    {
     "name": "stderr",
     "output_type": "stream",
     "text": [
      "Passing a tuple of `past_key_values` is deprecated and will be removed in Transformers v4.48.0. You should pass an instance of `EncoderDecoderCache` instead, e.g. `past_key_values=EncoderDecoderCache.from_legacy_cache(past_key_values)`.\n"
     ]
    },
    {
     "data": {
      "text/html": [
       "\n",
       "    <div>\n",
       "      \n",
       "      <progress value='50376' max='50376' style='width:300px; height:20px; vertical-align: middle;'></progress>\n",
       "      [50376/50376 2:03:07, Epoch 3/3]\n",
       "    </div>\n",
       "    <table border=\"1\" class=\"dataframe\">\n",
       "  <thead>\n",
       " <tr style=\"text-align: left;\">\n",
       "      <th>Epoch</th>\n",
       "      <th>Training Loss</th>\n",
       "      <th>Validation Loss</th>\n",
       "    </tr>\n",
       "  </thead>\n",
       "  <tbody>\n",
       "    <tr>\n",
       "      <td>1</td>\n",
       "      <td>0.000000</td>\n",
       "      <td>nan</td>\n",
       "    </tr>\n",
       "    <tr>\n",
       "      <td>2</td>\n",
       "      <td>0.000000</td>\n",
       "      <td>nan</td>\n",
       "    </tr>\n",
       "    <tr>\n",
       "      <td>3</td>\n",
       "      <td>0.000000</td>\n",
       "      <td>nan</td>\n",
       "    </tr>\n",
       "  </tbody>\n",
       "</table><p>"
      ],
      "text/plain": [
       "<IPython.core.display.HTML object>"
      ]
     },
     "metadata": {},
     "output_type": "display_data"
    },
    {
     "name": "stdout",
     "output_type": "stream",
     "text": [
      "Training completed and model saved!\n"
     ]
    }
   ],
   "source": [
    "from transformers import AutoTokenizer, AutoModelForSeq2SeqLM, Trainer, TrainingArguments\n",
    "from datasets import Dataset\n",
    "import pandas as pd\n",
    "import torch\n",
    "\n",
    "# Verify PyTorch and GPU availability\n",
    "print(f\"PyTorch version: {torch.__version__}\")\n",
    "print(f\"GPU available: {torch.cuda.is_available()}\")\n",
    "\n",
    "# Load the processed dataset\n",
    "df = pd.read_csv(\"processed_paraphrase_dataset.csv\")\n",
    "\n",
    "# Load tokenizer and model\n",
    "model_name = \"google/flan-t5-small\"\n",
    "tokenizer = AutoTokenizer.from_pretrained(model_name)\n",
    "model = AutoModelForSeq2SeqLM.from_pretrained(model_name)\n",
    "\n",
    "# Preprocess the dataset for T5\n",
    "def preprocess_function(examples):\n",
    "    inputs = [f\"paraphrase: {text} style: {style}\" for text, style in zip(examples['input'], examples['style'])]\n",
    "    targets = examples['output']\n",
    "    model_inputs = tokenizer(inputs, max_length=128, truncation=True, padding=\"max_length\")\n",
    "    labels = tokenizer(targets, max_length=128, truncation=True, padding=\"max_length\")\n",
    "    model_inputs[\"labels\"] = labels[\"input_ids\"]\n",
    "    return model_inputs\n",
    "\n",
    "# Convert the processed dataset to a Hugging Face Dataset\n",
    "dataset = Dataset.from_pandas(df)\n",
    "\n",
    "# Split into train and validation sets (90% train, 10% validation)\n",
    "train_test_split = dataset.train_test_split(test_size=0.1)\n",
    "train_dataset = train_test_split[\"train\"]\n",
    "eval_dataset = train_test_split[\"test\"]\n",
    "\n",
    "# Tokenize the datasets\n",
    "tokenized_train_dataset = train_dataset.map(preprocess_function, batched=True)\n",
    "tokenized_eval_dataset = eval_dataset.map(preprocess_function, batched=True)\n",
    "\n",
    "# Define training arguments\n",
    "training_args = TrainingArguments(\n",
    "    output_dir=\"./results\",\n",
    "    eval_strategy=\"epoch\",\n",
    "    learning_rate=5e-5,\n",
    "    per_device_train_batch_size=8,\n",
    "    per_device_eval_batch_size=8,\n",
    "    num_train_epochs=3,\n",
    "    weight_decay=0.01,\n",
    "    save_steps=10_000,\n",
    "    save_total_limit=2,\n",
    "    logging_dir=\"./logs\",\n",
    "    logging_steps=100,\n",
    "    fp16=torch.cuda.is_available(),  # Enable mixed precision only if GPU is available\n",
    ")\n",
    "\n",
    "# Initialize Trainer\n",
    "trainer = Trainer(\n",
    "    model=model,\n",
    "    args=training_args,\n",
    "    train_dataset=tokenized_train_dataset,\n",
    "    eval_dataset=tokenized_eval_dataset,\n",
    ")\n",
    "\n",
    "# Start training\n",
    "trainer.train()\n",
    "\n",
    "# Save the fine-tuned model\n",
    "model.save_pretrained(\"./fine_tuned_flan_t5\")\n",
    "tokenizer.save_pretrained(\"./fine_tuned_flan_t5\")\n",
    "\n",
    "print(\"Training completed and model saved!\")"
   ]
  },
  {
   "cell_type": "code",
   "execution_count": 2,
   "id": "05ae12df-d209-4f85-ab0b-df3dcfbf6798",
   "metadata": {},
   "outputs": [
    {
     "name": "stdout",
     "output_type": "stream",
     "text": [
      "if you are a professional, you can improve your skills.\n"
     ]
    }
   ],
   "source": [
    "input_text = \"paraphrase: How can I improve my skills? style: neutral\"\n",
    "inputs = tokenizer(input_text, return_tensors=\"pt\", max_length=128, truncation=True).to(\"cuda\")\n",
    "outputs = model.generate(**inputs)\n",
    "print(tokenizer.decode(outputs[0], skip_special_tokens=True))"
   ]
  },
  {
   "cell_type": "code",
   "execution_count": 4,
   "id": "97bebea3-5454-4d15-8323-6d943ead7a3f",
   "metadata": {},
   "outputs": [
    {
     "name": "stdout",
     "output_type": "stream",
     "text": [
      "C:\\Users\\ASUS\n"
     ]
    }
   ],
   "source": [
    "import os\n",
    "print(os.getcwd())"
   ]
  },
  {
   "cell_type": "code",
   "execution_count": null,
   "id": "cecf0296-9a6f-473a-beb4-7461415c69f4",
   "metadata": {},
   "outputs": [],
   "source": []
  }
 ],
 "metadata": {
  "kernelspec": {
   "display_name": "Python (rag_rl)",
   "language": "python",
   "name": "rag_rl"
  },
  "language_info": {
   "codemirror_mode": {
    "name": "ipython",
    "version": 3
   },
   "file_extension": ".py",
   "mimetype": "text/x-python",
   "name": "python",
   "nbconvert_exporter": "python",
   "pygments_lexer": "ipython3",
   "version": "3.10.18"
  }
 },
 "nbformat": 4,
 "nbformat_minor": 5
}
